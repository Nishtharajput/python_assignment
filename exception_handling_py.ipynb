{
  "nbformat": 4,
  "nbformat_minor": 0,
  "metadata": {
    "colab": {
      "provenance": []
    },
    "kernelspec": {
      "name": "python3",
      "display_name": "Python 3"
    },
    "language_info": {
      "name": "python"
    }
  },
  "cells": [
    {
      "cell_type": "markdown",
      "source": [
        "Ques1: write a python program to handle a ZeroDivisonError exception when dividing a number by zero"
      ],
      "metadata": {
        "id": "VVbtxUmvOk3b"
      }
    },
    {
      "cell_type": "code",
      "source": [
        "num1=int(input(\"Enter first number:\"))\n",
        "num2=int(input(\"Enter divison number:\"))\n",
        "try:\n",
        "  print(num1/num2)\n",
        "except ZeroDivisionError as e:\n",
        "  print(\"Error:can't divide by zero\")"
      ],
      "metadata": {
        "colab": {
          "base_uri": "https://localhost:8080/"
        },
        "id": "XohBepguOmzT",
        "outputId": "ae927b3e-6098-4eee-c915-740d20688be5"
      },
      "execution_count": 1,
      "outputs": [
        {
          "output_type": "stream",
          "name": "stdout",
          "text": [
            "Enter first number:768\n",
            "Enter divison number:0\n",
            "Error:can't divide by zero\n"
          ]
        }
      ]
    },
    {
      "cell_type": "markdown",
      "source": [
        "Ques2:write a python program that prompts the user to input an integer and raises a valueerror exception if the input is not a valid integer"
      ],
      "metadata": {
        "id": "tK294E69OyZt"
      }
    },
    {
      "cell_type": "code",
      "source": [
        "def get_integer_input(prompt):\n",
        "    user_input = input(prompt)\n",
        "    try:\n",
        "        return int(user_input)\n",
        "    except ValueError:\n",
        "        raise ValueError(f\"Invalid input: '{user_input}' is not a valid integer.\")\n",
        "\n",
        "try:\n",
        "    number = get_integer_input(\"Please enter an integer: \")\n",
        "    print(f\"You entered the integer: {number}\")\n",
        "except ValueError as e:\n",
        "    print(e)"
      ],
      "metadata": {
        "colab": {
          "base_uri": "https://localhost:8080/"
        },
        "id": "A9FbCOL4OzP_",
        "outputId": "69ac38f8-c47d-4d88-ee95-e2863295336d"
      },
      "execution_count": 2,
      "outputs": [
        {
          "output_type": "stream",
          "name": "stdout",
          "text": [
            "Please enter an integer: nishtha\n",
            "Invalid input: 'nishtha' is not a valid integer.\n"
          ]
        }
      ]
    },
    {
      "cell_type": "markdown",
      "source": [
        "Ques3:write a python program that opena file and handles a file not found error Exception if file does not exist."
      ],
      "metadata": {
        "id": "moGr4INUO44V"
      }
    },
    {
      "cell_type": "code",
      "source": [
        "def read_file(file_path):\n",
        "    try:\n",
        "        with open(file_path, 'r') as file:\n",
        "            content = file.read()\n",
        "            return content\n",
        "    except FileNotFoundError:\n",
        "        print(f\"Error: The file '{file_path}' was not found.\")\n",
        "        return None\n",
        "\n",
        "file_path = input(\"Enter the path to the file: \")\n",
        "\n",
        "content = read_file(file_path)\n",
        "if content is not None:\n",
        "    print(\"File content:\")\n",
        "    print(content)"
      ],
      "metadata": {
        "colab": {
          "base_uri": "https://localhost:8080/"
        },
        "id": "DGhKYjJkPF7D",
        "outputId": "966526a0-d1d3-4bb9-d5fb-666fb8428366"
      },
      "execution_count": 3,
      "outputs": [
        {
          "output_type": "stream",
          "name": "stdout",
          "text": [
            "Enter the path to the file: anudip.txt\n",
            "Error: The file 'anudip.txt' was not found.\n"
          ]
        }
      ]
    },
    {
      "cell_type": "markdown",
      "source": [
        "Ques4:write a python program that prompts the user to input two numbers and raises a TypeError exception if the inputs are not numerical"
      ],
      "metadata": {
        "id": "fM6Zp8myPXNR"
      }
    },
    {
      "cell_type": "code",
      "source": [
        "def get_numerical_input(prompt):\n",
        "    user_input = input(prompt)\n",
        "    try:\n",
        "        return float(user_input)\n",
        "    except ValueError:\n",
        "        raise TypeError(f\"Invalid input: '{user_input}' is not a valid number.\")\n",
        "\n",
        "try:\n",
        "    number1 = get_numerical_input(\"Please enter the first number: \")\n",
        "    number2 = get_numerical_input(\"Please enter the second number: \")\n",
        "    print(f\"You entered the numbers: {number1} and {number2}\")\n",
        "except TypeError as e:\n",
        "    print(e)\n"
      ],
      "metadata": {
        "colab": {
          "base_uri": "https://localhost:8080/"
        },
        "id": "38iL8c1LPe4U",
        "outputId": "124132fa-4743-4569-d530-893d3b70c774"
      },
      "execution_count": 4,
      "outputs": [
        {
          "output_type": "stream",
          "name": "stdout",
          "text": [
            "Please enter the first number: 78\n",
            "Please enter the second number: 87\n",
            "You entered the numbers: 78.0 and 87.0\n"
          ]
        }
      ]
    }
  ]
}
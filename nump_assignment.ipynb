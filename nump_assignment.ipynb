{
  "nbformat": 4,
  "nbformat_minor": 0,
  "metadata": {
    "colab": {
      "provenance": []
    },
    "kernelspec": {
      "name": "python3",
      "display_name": "Python 3"
    },
    "language_info": {
      "name": "python"
    }
  },
  "cells": [
    {
      "cell_type": "markdown",
      "source": [
        "Ques1:Convert the below list into numpy array then display the array\n",
        "\n",
        "Input:my_list=[1,2,3,4,5]"
      ],
      "metadata": {
        "id": "4A2GGCHTa5qG"
      }
    },
    {
      "cell_type": "code",
      "execution_count": 1,
      "metadata": {
        "colab": {
          "base_uri": "https://localhost:8080/"
        },
        "id": "8e-EJLOoaybC",
        "outputId": "c075af00-6c20-40fa-f030-af8169f3d4c2"
      },
      "outputs": [
        {
          "output_type": "stream",
          "name": "stdout",
          "text": [
            "Input list is: [1, 2, 3, 4, 5]\n",
            "conversion of list into array: [1 2 3 4 5]\n"
          ]
        }
      ],
      "source": [
        "import numpy as np\n",
        "my_list=[1,2,3,4,5]\n",
        "print(\"Input list is:\",my_list)\n",
        "a=np.array(my_list)\n",
        "print(\"conversion of list into array:\",a)"
      ]
    },
    {
      "cell_type": "markdown",
      "source": [
        "Ques2: Convert the below list into a numpy array then display the array then display the first and last index and then multiply each element by 2 and displaqy the result.\n",
        "\n",
        "Input:my_list=[1,2,3,4,5]\n"
      ],
      "metadata": {
        "id": "LA8ugkagbHWF"
      }
    },
    {
      "cell_type": "code",
      "source": [
        "import numpy as np\n",
        "my_list=[1,2,3,4,5]\n",
        "print(\"Input list is:\",my_list)\n",
        "a=np.array(my_list)\n",
        "print(\"Converted array is:\",a)\n",
        "b=a[0]\n",
        "c=a[-1]\n",
        "print(\"Fisrt index element is:\",b)\n",
        "print(\"Last index array is:\",c)\n",
        "print(\"Array after multiplying by 2:\",a*2)"
      ],
      "metadata": {
        "colab": {
          "base_uri": "https://localhost:8080/"
        },
        "id": "4DZoBpOlbLgw",
        "outputId": "599ddda3-22f2-433f-d76f-8602ec7f38d3"
      },
      "execution_count": 2,
      "outputs": [
        {
          "output_type": "stream",
          "name": "stdout",
          "text": [
            "Input list is: [1, 2, 3, 4, 5]\n",
            "Converted array is: [1 2 3 4 5]\n",
            "Fisrt index element is: 1\n",
            "Last index array is: 5\n",
            "Array after multiplying by 2: [ 2  4  6  8 10]\n"
          ]
        }
      ]
    },
    {
      "cell_type": "markdown",
      "source": [
        "Ques: Write a numpy program to create an array of 10 zeros ,10 ones and 10 fives\n",
        "\n",
        "output:\n",
        "\n",
        "An array of 10 zeros:\n",
        "\n",
        "[0 . 0. 0. 0. 0. 0. 0. 0. 0. 0.]\n",
        "\n",
        "An array of 10 ones\n",
        "\n",
        "[1. 1. 1. 1. 1. 1. 1. 1. 1. 1. ]\n",
        "\n",
        "An array of 10 fives\n",
        "\n",
        "[5. 5. 5. 5. 5. 5. 5. 5. 5. 5. ]"
      ],
      "metadata": {
        "id": "Dlkf-28IbSFc"
      }
    },
    {
      "cell_type": "code",
      "source": [
        "import numpy as np\n",
        "a=np.zeros(10)\n",
        "print(\"An array of 10 zeros\")\n",
        "print(a)\n",
        "b=np.ones(10)\n",
        "print(\"An array of 10 ones\")\n",
        "print(b)\n",
        "c=np.full(10,5,dtype=float)\n",
        "print(\"An array of 10 fives\")\n",
        "print(c)"
      ],
      "metadata": {
        "colab": {
          "base_uri": "https://localhost:8080/"
        },
        "id": "LkioCBlUbTKG",
        "outputId": "1027570d-bdfe-41c2-8924-c961566e5435"
      },
      "execution_count": 3,
      "outputs": [
        {
          "output_type": "stream",
          "name": "stdout",
          "text": [
            "An array of 10 zeros\n",
            "[0. 0. 0. 0. 0. 0. 0. 0. 0. 0.]\n",
            "An array of 10 ones\n",
            "[1. 1. 1. 1. 1. 1. 1. 1. 1. 1.]\n",
            "An array of 10 fives\n",
            "[5. 5. 5. 5. 5. 5. 5. 5. 5. 5.]\n"
          ]
        }
      ]
    },
    {
      "cell_type": "markdown",
      "source": [
        "Ques:Write a numpy program to create a 3*3 matrix with values ranging from 2 to 10"
      ],
      "metadata": {
        "id": "ejW0-PyqbYzf"
      }
    },
    {
      "cell_type": "code",
      "source": [
        "import numpy as np\n",
        "mat=np.arange(2,11).reshape(3,3)\n",
        "print(mat)"
      ],
      "metadata": {
        "colab": {
          "base_uri": "https://localhost:8080/"
        },
        "id": "J2NQSC5kbZmB",
        "outputId": "0fb04b0c-29a7-4d8c-fd76-7ed9baa15ceb"
      },
      "execution_count": 4,
      "outputs": [
        {
          "output_type": "stream",
          "name": "stdout",
          "text": [
            "[[ 2  3  4]\n",
            " [ 5  6  7]\n",
            " [ 8  9 10]]\n"
          ]
        }
      ]
    },
    {
      "cell_type": "markdown",
      "source": [
        "Ques:Calculate the total revenue generated by two product categories in a store\n",
        "\n",
        "Input\n",
        "\n",
        "category1_revenue=np.array([500,600,700,550])\n",
        "\n",
        "category2_revenue=np.array([450,700,800,600])\n",
        "\n",
        "Total Revenue=[950 1300 1500 1150]"
      ],
      "metadata": {
        "id": "ZEz6_Jasbgzi"
      }
    },
    {
      "cell_type": "code",
      "source": [
        "import numpy as np\n",
        "category1_revenue=np.array([500,600,700,550])\n",
        "print(\"Revenue generated by category 1:\",category1_revenue)\n",
        "category2_revenue=np.array([450,700,800,600])\n",
        "print(\"Revenue generated by category 2:\",category2_revenue)\n",
        "total_revenue=category1_revenue + category2_revenue\n",
        "print(\"Total Revenue:\",total_revenue)"
      ],
      "metadata": {
        "colab": {
          "base_uri": "https://localhost:8080/"
        },
        "id": "oncGeH1Cbhzz",
        "outputId": "34c3ccef-4929-47d1-f7a8-f3d379416638"
      },
      "execution_count": 5,
      "outputs": [
        {
          "output_type": "stream",
          "name": "stdout",
          "text": [
            "Revenue generated by category 1: [500 600 700 550]\n",
            "Revenue generated by category 2: [450 700 800 600]\n",
            "Total Revenue: [ 950 1300 1500 1150]\n"
          ]
        }
      ]
    },
    {
      "cell_type": "markdown",
      "source": [
        "Ques2:Calculate the profit made by a company.\n",
        "\n",
        "Input:\n",
        "\n",
        "revenue=np.array([10000,12000,11000,10500])\n",
        "\n",
        "expenses=np.array([4000,5000,4500,4800])\n",
        "\n",
        "Profit:[6000 7000 6500 5700]"
      ],
      "metadata": {
        "id": "5qwvuKxUbmsz"
      }
    },
    {
      "cell_type": "code",
      "source": [
        "import numpy as np\n",
        "revenue=np.array([10000,12000,11000,10500])\n",
        "print(\"Revenue generated is:\",revenue)\n",
        "expenses=np.array([4000,5000,4500,4800])\n",
        "print(\"Total expenses are:\",expenses)\n",
        "profit=revenue-expenses\n",
        "print(\"Profit:\",profit)"
      ],
      "metadata": {
        "colab": {
          "base_uri": "https://localhost:8080/"
        },
        "id": "NwQeOsE4bnp4",
        "outputId": "f3eb4c04-ef09-4d27-df46-b745a2540ab3"
      },
      "execution_count": 6,
      "outputs": [
        {
          "output_type": "stream",
          "name": "stdout",
          "text": [
            "Revenue generated is: [10000 12000 11000 10500]\n",
            "Total expenses are: [4000 5000 4500 4800]\n",
            "Profit: [6000 7000 6500 5700]\n"
          ]
        }
      ]
    },
    {
      "cell_type": "markdown",
      "source": [
        "Ques:Determine which products in a store are out of stock(quantity is 0)\n",
        "\n",
        "Input:\n",
        "\n",
        "inventory=np.array([10,0,5,0,20,0])\n",
        "\n",
        "output:\n",
        "\n",
        "Out of stock Products:[0 0 0]"
      ],
      "metadata": {
        "id": "zPYY3atkbt1p"
      }
    },
    {
      "cell_type": "code",
      "source": [
        "import numpy as np\n",
        "inventory=np.array([10,0,5,0,20,0])\n",
        "print(\"Products in inventory are:\",inventory)\n",
        "out_of_stock_products=inventory[inventory==0]\n",
        "print(\"Out of stock Products:\",out_of_stock_products)"
      ],
      "metadata": {
        "colab": {
          "base_uri": "https://localhost:8080/"
        },
        "id": "0jI3gye9bukN",
        "outputId": "0a05bf79-cbca-42b3-de84-b5a7e9f37112"
      },
      "execution_count": 7,
      "outputs": [
        {
          "output_type": "stream",
          "name": "stdout",
          "text": [
            "Products in inventory are: [10  0  5  0 20  0]\n",
            "Out of stock Products: [0 0 0]\n"
          ]
        }
      ]
    },
    {
      "cell_type": "markdown",
      "source": [
        "Ques: Calculate the total cost of items in a shopping cart , considering the quantity and price per item\n",
        "\n",
        "Input:\n",
        "\n",
        "quantity=np.array([2,3,4,1])\n",
        "price_per_item=np.array({10.0,5.0,8.0,12.0])\n",
        "\n",
        "output:\n",
        "\n",
        "Total cost of items:[20. 15. 32. 12."
      ],
      "metadata": {
        "id": "7EKt2m08bzst"
      }
    },
    {
      "cell_type": "code",
      "source": [
        "import numpy as np\n",
        "quantity = np.array([2, 3, 4, 1])\n",
        "print(\"Quantity of items is:\",quantity)\n",
        "price_per_item = np.array([10.0, 5.0, 8.0, 12.0])\n",
        "print(\"price per items is:\",price_per_item)\n",
        "Total_cost_of_items=quantity*price_per_item\n",
        "print(\"Total cost of items:\",Total_cost_of_items)"
      ],
      "metadata": {
        "colab": {
          "base_uri": "https://localhost:8080/"
        },
        "id": "NAer9vGXb0qY",
        "outputId": "9383b208-f1a7-41eb-de92-319e5379d0e0"
      },
      "execution_count": 8,
      "outputs": [
        {
          "output_type": "stream",
          "name": "stdout",
          "text": [
            "Quantity of items is: [2 3 4 1]\n",
            "price per items is: [10.  5.  8. 12.]\n",
            "Total cost of items: [20. 15. 32. 12.]\n"
          ]
        }
      ]
    }
  ]
}
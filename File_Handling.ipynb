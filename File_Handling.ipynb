{
  "cells": [
    {
      "cell_type": "markdown",
      "source": [
        "#**DATE: 22/JULY/2024**\n",
        "#File Handling"
      ],
      "metadata": {
        "id": "iF4gtouT-XKk"
      }
    },
    {
      "cell_type": "markdown",
      "source": [
        "Ques: Write a program to count the occurenece of word \"INDIA\" ia a text file India.txt"
      ],
      "metadata": {
        "id": "-Y_rEPs-8qDM"
      }
    },
    {
      "cell_type": "code",
      "source": [
        "file=open(\"India.txt\",'w')\n",
        "file.write(\"India is a country, I love my India\")\n",
        "file.close()\n",
        "file=open(\"India.txt\",'r')\n",
        "data=file.read()\n",
        "print(\"Content of India.txt : \",data)\n",
        "\n",
        "# Convert text to lower case to make the search case-insensitive\n",
        "text_lower = data.lower()\n",
        "# Define the word to count\n",
        "word = \"India\"\n",
        "word_lower = word.lower()\n",
        "# Split the text into words\n",
        "words = text_lower.split()\n",
        "# Count the occurrences of the word\n",
        "count = words.count(word_lower)\n",
        "\n",
        "# Print the result\n",
        "print(\"The word\",word ,\"occurs\", count ,\"times in the text.\")"
      ],
      "metadata": {
        "id": "b2WfDvZM8zf2",
        "outputId": "5607c507-294c-468e-a40b-e1c467c8b770",
        "colab": {
          "base_uri": "https://localhost:8080/"
        }
      },
      "execution_count": null,
      "outputs": [
        {
          "output_type": "stream",
          "name": "stdout",
          "text": [
            "Content of India.txt :  India is a country, I love my India\n",
            "The word India occurs 2 times in the text.\n"
          ]
        }
      ]
    },
    {
      "cell_type": "markdown",
      "source": [
        "Ques: Write a program to count and display the lines starting with \"T\" in a test file story.txt."
      ],
      "metadata": {
        "id": "wlgTOysb83Zy"
      }
    },
    {
      "cell_type": "code",
      "source": [
        "file=open(\"story.txt\",'w')\n",
        "file.write(\"There is no maximum length, but the average short story is 1,000 to 7,500 words, with some outliers reaching 10,000 or 15,000 words\\n.There was once a brave knight who fought dragons.\\n\"\"Tales of his bravery spread far and wide.\\n\"\"The kingdom celebrated his victories.\\n\"\"His name was known throughout the land.\\n\"\"Tales of his adventures were told to children at bedtime.\\n\"\"Every villager admired his courage.\\n\")\n",
        "file.close()\n",
        "\n",
        "file=open(\"story.txt\",'r')\n",
        "data=file.read()\n",
        "\n",
        "# Initialize a counter for lines starting with \"T\"\n",
        "count = 0\n",
        "\n",
        "# Split the data into lines\n",
        "lines = data.split('\\n')\n",
        "\n",
        "print(\"Display the lines starting with'T' in a text file story.txt: \" )\n",
        "# Read the file line by line\n",
        "for line in lines:\n",
        "    # Check if the line starts with \"T\"\n",
        "    if line.startswith('T'):\n",
        "        # Increment the counter\n",
        "        count += 1\n",
        "        # Print the line\n",
        "        print(line)\n",
        "print(\" \")\n",
        "# Print the total count of lines starting with \"T\"\n",
        "print(\"Total number of lines starting with 'T':\",count)"
      ],
      "metadata": {
        "id": "QhMuNa5E88eC",
        "outputId": "c9d17be5-9a23-4b67-cc66-fe662a65fb30",
        "colab": {
          "base_uri": "https://localhost:8080/"
        }
      },
      "execution_count": null,
      "outputs": [
        {
          "output_type": "stream",
          "name": "stdout",
          "text": [
            "Display the lines starting with'T' in a text file story.txt: \n",
            "There is no maximum length, but the average short story is 1,000 to 7,500 words, with some outliers reaching 10,000 or 15,000 words\n",
            "Tales of his bravery spread far and wide.\n",
            "The kingdom celebrated his victories.\n",
            "Tales of his adventures were told to children at bedtime.\n",
            " \n",
            "Total number of lines starting with 'T': 4\n"
          ]
        }
      ]
    },
    {
      "cell_type": "markdown",
      "source": [
        "Ques: Write a program to count the number of vowels and consonants in a file \"Myfile.txt\"."
      ],
      "metadata": {
        "id": "6DF3T4oK9DWQ"
      }
    },
    {
      "cell_type": "code",
      "source": [
        "file=open(\"Myfile.txt\",'w')\n",
        "file.write(\"A moral story depicts practical situations excitingly and carries a message that imbibes moral values in the children. \")\n",
        "file.close()\n",
        "\n",
        "file=open(\"Myfile.txt\",'r')\n",
        "data=file.read()\n",
        "\n",
        "# Define vowels\n",
        "vowels = \"aeiouAEIOU\"\n",
        "\n",
        "# Initialize counters\n",
        "vowel_count = 0\n",
        "consonant_count = 0\n",
        "\n",
        "# Iterate through each character in the file content\n",
        "for char in data:\n",
        "# Check if the character is a vowel\n",
        "  if char in vowels:\n",
        "      vowel_count += 1\n",
        "        # Check if the character is a consonant (alphabetic but not a vowel)\n",
        "  elif char.isalpha():\n",
        "      consonant_count += 1\n",
        "\n",
        "# Print the counts\n",
        "print(\"Number of vowels: \",vowel_count)\n",
        "print(\"Number of consonants: \",consonant_count)"
      ],
      "metadata": {
        "id": "dDss7wAw9I47",
        "outputId": "f8173725-3741-4cba-e1d0-baec688265b5",
        "colab": {
          "base_uri": "https://localhost:8080/"
        }
      },
      "execution_count": null,
      "outputs": [
        {
          "output_type": "stream",
          "name": "stdout",
          "text": [
            "Number of vowels:  38\n",
            "Number of consonants:  62\n"
          ]
        }
      ]
    },
    {
      "cell_type": "markdown",
      "source": [
        "Ques: Write a program to count and display number of words starting with \"i\" in a file Word.txt"
      ],
      "metadata": {
        "id": "tTuqJ6wY9Obr"
      }
    },
    {
      "cell_type": "code",
      "source": [
        "file=open(\"Word.txt\",'w')\n",
        "file.write(\"I enjoy reading interesting books in my free time.\")\n",
        "file.close()\n",
        "\n",
        "file=open(\"Word.txt\",'r')\n",
        "data=file.read()\n",
        "# Split the text into words\n",
        "words = data.split()\n",
        "\n",
        "# Count words starting with 'i' or 'I'\n",
        "print(\"Words starting with 'i' in a file Word.txt are: \")\n",
        "count = 0\n",
        "for word in words:\n",
        "    if word.lower().startswith('i'):\n",
        "        count += 1\n",
        "        print(word)\n",
        "print(\" \")\n",
        "print(\"Number of words starting with 'i': \",count)"
      ],
      "metadata": {
        "id": "yMAN52XB9SIP",
        "outputId": "1c4ce332-9e02-4f3e-8ff7-12f988ea000b",
        "colab": {
          "base_uri": "https://localhost:8080/"
        }
      },
      "execution_count": null,
      "outputs": [
        {
          "output_type": "stream",
          "name": "stdout",
          "text": [
            "Words starting with 'i' in a file Word.txt are: \n",
            "I\n",
            "interesting\n",
            "in\n",
            " \n",
            "Number of words starting with 'i':  3\n"
          ]
        }
      ]
    },
    {
      "cell_type": "markdown",
      "source": [
        "Ques: Write a program to display the lines having more than five words in a text file Notes.txt."
      ],
      "metadata": {
        "id": "kiQTZWqX9XhQ"
      }
    },
    {
      "cell_type": "code",
      "source": [
        "file=open(\"Notes.txt\",'w')\n",
        "file.write(\"A pangram is a sentence that includes every single letter of the alphabet, from A to Z, at least once.\\n Pangrams are also referred to as holoalphabetic sentences or alphabet sentences. \\n The most challenging pangrams are the ones with the fewest letters.\")\n",
        "file.close()\n",
        "\n",
        "file=open(\"Notes.txt\",'r')\n",
        "data=file.readlines()\n",
        "\n",
        "print(\"Lines with more than five words:\")\n",
        "for line in data:\n",
        "# Split the line into words\n",
        "    words = line.split()\n",
        "# Check if the line has more than five words\n",
        "    if len(words) > 5:\n",
        "        print(line.strip())"
      ],
      "metadata": {
        "id": "0wYZiWAC9bCT",
        "outputId": "23844f3d-a6e2-4b38-f284-d9083ece93ce",
        "colab": {
          "base_uri": "https://localhost:8080/"
        }
      },
      "execution_count": null,
      "outputs": [
        {
          "output_type": "stream",
          "name": "stdout",
          "text": [
            "Lines with more than five words:\n",
            "A pangram is a sentence that includes every single letter of the alphabet, from A to Z, at least once.\n",
            "Pangrams are also referred to as holoalphabetic sentences or alphabet sentences.\n",
            "The most challenging pangrams are the ones with the fewest letters.\n"
          ]
        }
      ]
    },
    {
      "cell_type": "markdown",
      "source": [
        "Ques: Write a program to create a binary file \"Stu.dat\" and Enter student rollno. , Name and Marks till the user wants."
      ],
      "metadata": {
        "id": "OnpTOrnT9h4T"
      }
    },
    {
      "cell_type": "code",
      "source": [
        "import pickle\n",
        "file=open(\"Stu.dat\",'wb')\n",
        "students = []\n",
        "\n",
        "while True:\n",
        "    roll_no = input(\"Enter roll number: \")\n",
        "    name = input(\"Enter name: \")\n",
        "    marks = input(\"Enter marks: \")\n",
        "\n",
        "    student = {\n",
        "        'roll_no': roll_no,\n",
        "        'name': name,\n",
        "        'marks': marks\n",
        "    }\n",
        "    students.append(student)\n",
        "\n",
        "    cont = input(\"Do you want to add another student? (yes/no): \").strip().lower()\n",
        "    if cont != 'yes':\n",
        "        break\n",
        "pickle.dump(students,file)\n",
        "file.close()\n",
        "print(\"\\nStudent List:\")\n",
        "for student in students:\n",
        "    print(\"Roll No: \",student['roll_no'], \"Name: \",student['name'], \"Marks: \",student['marks'])\n",
        "\n"
      ],
      "metadata": {
        "id": "svf2hHlG9wKg",
        "outputId": "a9b98474-17d2-4904-8cb9-8e07aa6cb854",
        "colab": {
          "base_uri": "https://localhost:8080/"
        }
      },
      "execution_count": null,
      "outputs": [
        {
          "output_type": "stream",
          "name": "stdout",
          "text": [
            "Enter roll number: 67\n",
            "Enter name: Laxmi\n",
            "Enter marks: 99.5\n",
            "Do you want to add another student? (yes/no): yes\n",
            "Enter roll number: 76\n",
            "Enter name: Nishtha\n",
            "Enter marks: 10\n",
            "Do you want to add another student? (yes/no): no\n",
            "\n",
            "Student List:\n",
            "Roll No:  67 Name:  Laxmi Marks:  99.5\n",
            "Roll No:  76 Name:  Nishtha Marks:  10\n"
          ]
        }
      ]
    },
    {
      "cell_type": "markdown",
      "source": [
        "Ques: Write a program to read a binary file \"Stu.dat\" and display the record of students having marks greater than 81."
      ],
      "metadata": {
        "id": "V21uD0bx9--i"
      }
    },
    {
      "cell_type": "code",
      "source": [
        "import pickle\n",
        "\n",
        "# Sample data to write to the binary file\n",
        "students = [\n",
        "    {'roll_no': '1', 'name': 'Alice', 'marks': 85},\n",
        "    {'roll_no': '2', 'name': 'Bob', 'marks': 78},\n",
        "    {'roll_no': '3', 'name': 'Charlie', 'marks': 92},\n",
        "]\n",
        "\n",
        "# Write sample data to binary file\n",
        "with open('Stu.dat', 'wb') as file:\n",
        "    pickle.dump(students, file)\n",
        "\n",
        "with open('Stu.dat', 'rb') as file:\n",
        "    students = pickle.load(file)\n",
        "\n",
        "    print(\"Students with marks greater than 81:\")\n",
        "    for student in students:\n",
        "        if student['marks'] > 81:\n",
        "            print(\"Roll No: \",student['roll_no'],\"Name: \",student['name'],\"Marks: \",student['marks'])"
      ],
      "metadata": {
        "id": "4g2qGlCI-CEs",
        "outputId": "34fb936b-0a21-4dc7-ba57-4432bae750be",
        "colab": {
          "base_uri": "https://localhost:8080/"
        }
      },
      "execution_count": null,
      "outputs": [
        {
          "output_type": "stream",
          "name": "stdout",
          "text": [
            "Students with marks greater than 81:\n",
            "Roll No:  1 Name:  Alice Marks:  85\n",
            "Roll No:  3 Name:  Charlie Marks:  92\n"
          ]
        }
      ]
    }
  ],
  "metadata": {
    "colab": {
      "provenance": []
    },
    "kernelspec": {
      "display_name": "Python 3",
      "name": "python3"
    }
  },
  "nbformat": 4,
  "nbformat_minor": 0
}
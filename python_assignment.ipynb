{
  "cells": [
    {
      "cell_type": "markdown",
      "metadata": {
        "id": "4ZMJ-5BnkwRD"
      },
      "source": [
        "Ques 1: Write a Python program to count the occurence of each word in a given sentence."
      ]
    },
    {
      "cell_type": "code",
      "execution_count": 1,
      "metadata": {
        "colab": {
          "base_uri": "https://localhost:8080/"
        },
        "id": "GgjLSgkRk2M2",
        "outputId": "84e2a8d0-0216-4ce8-f062-7badb24dd96c"
      },
      "outputs": [
        {
          "name": "stdout",
          "output_type": "stream",
          "text": [
            "Count of  to is : 2\n",
            "Count of  change is : 2\n",
            "Count of  the is : 3\n",
            "Count of  overall is : 1\n",
            "Count of  look is : 2\n",
            "Count of  of is : 1\n",
            "Count of  your is : 1\n",
            "Count of  document is : 1\n",
            "Count of  available is : 1\n",
            "Count of  in is : 1\n",
            "Count of  gallery is : 1\n"
          ]
        }
      ],
      "source": [
        "string = \"To change the overall look of your document. To change the look available in the gallery\"\n",
        "# Convert the sentence to lowercase to ensure case-insensitive counting\n",
        "string = string.lower()\n",
        "# Replace punctuation with spaces (can be expanded to handle more punctuation)\n",
        "string = string.replace(\".\", \"\")\n",
        "# Split the sentence into words\n",
        "words = string.split()\n",
        "# Create a dictionary to store word counts\n",
        "word_count = {}\n",
        "# Count occurrences of each word\n",
        "for word in words:\n",
        "    if word in word_count:\n",
        "        word_count[word] += 1\n",
        "    else:\n",
        "        word_count[word] = 1\n",
        "# Print the result\n",
        "for word, count in word_count.items():\n",
        "    print(\"Count of \",word,\"is :\",count)"
      ]
    },
    {
      "cell_type": "markdown",
      "metadata": {
        "id": "5Rq3McWik8g0"
      },
      "source": [
        "Ques 2:Write a Python program to remove a newline in Python"
      ]
    },
    {
      "cell_type": "code",
      "execution_count": 2,
      "metadata": {
        "colab": {
          "base_uri": "https://localhost:8080/"
        },
        "id": "RAYhRJ1ek92N",
        "outputId": "70cd3e29-5518-4a68-f467-94542cdf75a0"
      },
      "outputs": [
        {
          "name": "stdout",
          "output_type": "stream",
          "text": [
            "String is : \n",
            "Best \n",
            "Deeptech \n",
            "Python \n",
            "Training\n",
            "\n",
            "Best Deeptech Python Training\n"
          ]
        }
      ],
      "source": [
        "String = \"\\nBest \\nDeeptech \\nPython \\nTraining\\n\"\n",
        "print(\"String is :\",String)\n",
        "String=String.replace(\"\\n\",\"\")\n",
        "print(String)"
      ]
    },
    {
      "cell_type": "markdown",
      "metadata": {
        "id": "qImfsTttlDTp"
      },
      "source": [
        "Ques 3: Write a Python program to reverse words in a string\n"
      ]
    },
    {
      "cell_type": "code",
      "execution_count": 3,
      "metadata": {
        "colab": {
          "base_uri": "https://localhost:8080/"
        },
        "id": "tgBCE9aIlGLN",
        "outputId": "43f2eb7d-5fb2-490f-8279-073247925e2d"
      },
      "outputs": [
        {
          "name": "stdout",
          "output_type": "stream",
          "text": [
            " Given string is :  Deeptech Python Training\n",
            "Reverse word in a string Training Python Deeptech\n"
          ]
        }
      ],
      "source": [
        "String = \"Deeptech Python Training\"\n",
        "print(\" Given string is : \",String)\n",
        "words=String.split()\n",
        "words=words[::-1]\n",
        "a=\" \".join(words)\n",
        "print(\"Reverse word in a string\",a)"
      ]
    },
    {
      "cell_type": "markdown",
      "metadata": {
        "id": "hHJt-LhKlRWg"
      },
      "source": [
        "Ques 4: Write a Python program to count and display the vowels of a given text"
      ]
    },
    {
      "cell_type": "code",
      "execution_count": 4,
      "metadata": {
        "colab": {
          "base_uri": "https://localhost:8080/"
        },
        "id": "yMGbzcVwlUO2",
        "outputId": "0028e24d-5121-4175-86b3-a40f06499c0b"
      },
      "outputs": [
        {
          "name": "stdout",
          "output_type": "stream",
          "text": [
            "Input string is:  Welcome to python Training\n",
            "Vowel counts are:\n",
            "a: 1\n",
            "e: 2\n",
            "i: 2\n",
            "o: 3\n"
          ]
        }
      ],
      "source": [
        "String = \"Welcome to python Training\"\n",
        "print(\"Input string is: \", String)\n",
        "# Define the vowels\n",
        "vowels = 'aeiouAEIOU'\n",
        "\n",
        "# Initialize a dictionary to count vowels\n",
        "vowel_count = {vowel: 0 for vowel in vowels}\n",
        "# Count the vowels in the string\n",
        "for char in String:\n",
        "    if char in vowels:\n",
        "        vowel_count[char] += 1\n",
        "\n",
        "# Display the count of each vowel\n",
        "print(\"Vowel counts are:\")\n",
        "for vowel, count in vowel_count.items():\n",
        "    if count > 0:\n",
        "        print(f\"{vowel}: {count}\")"
      ]
    },
    {
      "cell_type": "markdown",
      "metadata": {
        "id": "Peqnp65xlYzx"
      },
      "source": [
        "Ques 5: Write a Python program to Count all letters, digits, and special symbols from the given string\n",
        "\n",
        "Input = “P@#yn26at^&i5ve”\n",
        "\n",
        "Output: Chars = 8 Digits = 3 Symbol = 4"
      ]
    },
    {
      "cell_type": "code",
      "execution_count": 6,
      "metadata": {
        "colab": {
          "base_uri": "https://localhost:8080/"
        },
        "id": "xugx5nf2laW9",
        "outputId": "33e0069c-666d-4605-a466-2e8ca357293a"
      },
      "outputs": [
        {
          "name": "stdout",
          "output_type": "stream",
          "text": [
            "Input String is:  P@#yn26at^&i5ve\n",
            "Chars: 8\n",
            "Digits: 3\n",
            "Symbols: 4\n"
          ]
        }
      ],
      "source": [
        "String = \"P@#yn26at^&i5ve\"\n",
        "print(\"Input String is: \",String)\n",
        "# Initialize counters\n",
        "char_count = 0\n",
        "digit_count = 0\n",
        "symbol_count = 0\n",
        "\n",
        "# Iterate over each character in the string\n",
        "for char in String:\n",
        "    if char.isalpha():       # Check if the character is a letter\n",
        "        char_count += 1\n",
        "    elif char.isdigit():     # Check if the character is a digit\n",
        "        digit_count += 1\n",
        "    else:                    # If it's neither a letter nor a digit, it's a symbol\n",
        "        symbol_count += 1\n",
        "\n",
        "# Display the results\n",
        "print(\"Chars:\" ,char_count)\n",
        "print(\"Digits:\" ,digit_count)\n",
        "print(\"Symbols:\" ,symbol_count)\n"
      ]
    },
    {
      "cell_type": "markdown",
      "metadata": {
        "id": "YPOxfuPWldHR"
      },
      "source": [
        "Ques 6: Write a Python program to remove duplicate characters of a given string.\n",
        "\n",
        "Input = “String and String Function”\n",
        "\n",
        "Output: String and Function"
      ]
    },
    {
      "cell_type": "code",
      "execution_count": 5,
      "metadata": {
        "colab": {
          "base_uri": "https://localhost:8080/"
        },
        "id": "L8pyizydlgUK",
        "outputId": "1222dc89-3121-4130-a0d5-719f22c23941"
      },
      "outputs": [
        {
          "name": "stdout",
          "output_type": "stream",
          "text": [
            "Input String is:  String and String Function\n",
            "String and Function\n"
          ]
        }
      ],
      "source": [
        "String = \"String and String Function\"\n",
        "print(\"Input String is: \", String)\n",
        "# Split the string into words\n",
        "words = String.split()\n",
        "\n",
        "# Initialize a list to hold unique words\n",
        "unique_words = []\n",
        "# Initialize a set to track seen words\n",
        "seen_words = set()\n",
        "\n",
        "# Iterate over each word in the list\n",
        "for word in words:\n",
        "    if word not in seen_words:\n",
        "        seen_words.add(word)\n",
        "        unique_words.append(word)\n",
        "\n",
        "# Join the unique words into a final string\n",
        "output_string = ' '.join(unique_words)\n",
        "\n",
        "# Display the result\n",
        "print(output_string)"
      ]
    },
    {
      "cell_type": "markdown",
      "metadata": {
        "id": "u9OzzMCxlj-g"
      },
      "source": [
        "Ques 7: Write a Python program to count Uppercase, Lowercase, special character and numeric values in a given string\n",
        "\n",
        "Input = “Hell0 W0rld ! 123 * # welcome to pYtHoN”\n",
        "\n",
        "Output: UpperCase : 5 LowerCase : 18 NumberCase : 5 SpecialCase : 11"
      ]
    },
    {
      "cell_type": "code",
      "execution_count": 7,
      "metadata": {
        "colab": {
          "base_uri": "https://localhost:8080/"
        },
        "id": "jfKR6fomlppP",
        "outputId": "d86caac9-6321-4d21-801b-192eb3d6cedf"
      },
      "outputs": [
        {
          "name": "stdout",
          "output_type": "stream",
          "text": [
            "Input String is :  Hell0 W0rld ! 123 * # welcome to pYtHoN\n",
            "UpperCase : 5\n",
            "LowerCase : 18\n",
            "NumberCase : 5\n",
            "SpecialCase : 3\n"
          ]
        }
      ],
      "source": [
        "String = \"Hell0 W0rld ! 123 * # welcome to pYtHoN\"\n",
        "print(\"Input String is : \",String)\n",
        "# Initialize counters\n",
        "uppercase_count = 0\n",
        "lowercase_count = 0\n",
        "number_count = 0\n",
        "special_count = 0\n",
        "\n",
        "# Iterate over each character in the string\n",
        "for char in String:\n",
        "    if char.isupper():               # Check if the character is uppercase\n",
        "        uppercase_count += 1\n",
        "    elif char.islower():             # Check if the character is lowercase\n",
        "        lowercase_count += 1\n",
        "    elif char.isdigit():             # Check if the character is a digit\n",
        "        number_count += 1\n",
        "    elif not char.isspace():         # Check if the character is not a space\n",
        "        special_count += 1\n",
        "\n",
        "# Display the results\n",
        "print(\"UpperCase :\",uppercase_count)\n",
        "print(\"LowerCase :\",lowercase_count)\n",
        "print(\"NumberCase :\", number_count)\n",
        "print(\"SpecialCase :\", special_count)\n"
      ]
    },
    {
      "cell_type": "markdown",
      "metadata": {
        "id": "vJQe1PqYls5i"
      },
      "source": [
        "Ques 8: Write a Python program to Count vowels in a string\n",
        "\n",
        "Input= “Welcome to Python Assignment”\n",
        "\n",
        "Output: Total vowels are: 8"
      ]
    },
    {
      "cell_type": "code",
      "execution_count": 8,
      "metadata": {
        "colab": {
          "base_uri": "https://localhost:8080/"
        },
        "id": "zpJvI9oNlydP",
        "outputId": "9ca9965c-8904-4814-8945-572cecc94066"
      },
      "outputs": [
        {
          "name": "stdout",
          "output_type": "stream",
          "text": [
            "Input string is:  Welcome to Python Assignment\n",
            "Total vowels are: 8\n"
          ]
        }
      ],
      "source": [
        "String = \"Welcome to Python Assignment\"\n",
        "print(\"Input string is: \",String)\n",
        "# Define the vowels\n",
        "vowels = 'aeiouAEIOU'\n",
        "\n",
        "# Initialize a counter for vowels\n",
        "vowel_count = 0\n",
        "\n",
        "# Iterate over each character in the string\n",
        "for char in String:\n",
        "    if char in vowels:\n",
        "        vowel_count += 1\n",
        "\n",
        "# Display the result\n",
        "print(\"Total vowels are:\" ,vowel_count)"
      ]
    }
  ],
  "metadata": {
    "colab": {
      "name": "Welcome To Colab",
      "provenance": []
    },
    "kernelspec": {
      "display_name": "Python 3",
      "name": "python3"
    }
  },
  "nbformat": 4,
  "nbformat_minor": 0
}
